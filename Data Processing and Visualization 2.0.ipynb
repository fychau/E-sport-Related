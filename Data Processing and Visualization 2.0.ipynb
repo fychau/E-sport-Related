{
 "cells": [
  {
   "cell_type": "markdown",
   "metadata": {},
   "source": [
    "## 企业数据处理"
   ]
  },
  {
   "cell_type": "code",
   "execution_count": 28,
   "metadata": {},
   "outputs": [],
   "source": [
    "import pandas as pd\n",
    "import matplotlib.pyplot as plt\n",
    "import numpy as np\n",
    "import pygal"
   ]
  },
  {
   "cell_type": "code",
   "execution_count": 25,
   "metadata": {},
   "outputs": [
    {
     "name": "stdout",
     "output_type": "stream",
     "text": [
      "Collecting pygal\n",
      "  Downloading https://files.pythonhosted.org/packages/5f/b7/201c9254ac0d2b8ffa3bb2d528d23a4130876d9ba90bc28e99633f323f17/pygal-2.4.0-py2.py3-none-any.whl (127kB)\n",
      "Installing collected packages: pygal\n",
      "Successfully installed pygal-2.4.0\n"
     ]
    },
    {
     "name": "stderr",
     "output_type": "stream",
     "text": [
      "You are using pip version 18.0, however version 18.1 is available.\n",
      "You should consider upgrading via the 'python -m pip install --upgrade pip' command.\n"
     ]
    }
   ],
   "source": [
    "!pip install pygal"
   ]
  },
  {
   "cell_type": "code",
   "execution_count": 2,
   "metadata": {},
   "outputs": [
    {
     "data": {
      "text/plain": [
       "(1616, 16)"
      ]
     },
     "execution_count": 2,
     "metadata": {},
     "output_type": "execute_result"
    }
   ],
   "source": [
    "df=pd.read_excel('121.xlsx',encoding='utf-8')\n",
    "df.shape"
   ]
  },
  {
   "cell_type": "code",
   "execution_count": 79,
   "metadata": {
    "scrolled": true
   },
   "outputs": [
    {
     "data": {
      "text/plain": [
       "Index(['公司名称', '法定代表人', '注册资本', '成立日期', '经营状态', '所属省份', '所属市区', '所属区县', '公司类型',\n",
       "       '统一社会信用代码', '企业公示的联系电话', '企业公示的联系电话（更多号码）', '企业公示的地址', '企业公示的网址',\n",
       "       '企业公示的邮箱', '经营范围'],\n",
       "      dtype='object')"
      ]
     },
     "execution_count": 79,
     "metadata": {},
     "output_type": "execute_result"
    }
   ],
   "source": [
    "df.columns"
   ]
  },
  {
   "cell_type": "code",
   "execution_count": 80,
   "metadata": {
    "scrolled": true
   },
   "outputs": [
    {
     "data": {
      "text/html": [
       "<div>\n",
       "<style scoped>\n",
       "    .dataframe tbody tr th:only-of-type {\n",
       "        vertical-align: middle;\n",
       "    }\n",
       "\n",
       "    .dataframe tbody tr th {\n",
       "        vertical-align: top;\n",
       "    }\n",
       "\n",
       "    .dataframe thead th {\n",
       "        text-align: right;\n",
       "    }\n",
       "</style>\n",
       "<table border=\"1\" class=\"dataframe\">\n",
       "  <thead>\n",
       "    <tr style=\"text-align: right;\">\n",
       "      <th></th>\n",
       "      <th>公司名称</th>\n",
       "      <th>法定代表人</th>\n",
       "      <th>注册资本</th>\n",
       "      <th>成立日期</th>\n",
       "      <th>经营状态</th>\n",
       "      <th>所属省份</th>\n",
       "      <th>所属市区</th>\n",
       "      <th>所属区县</th>\n",
       "      <th>公司类型</th>\n",
       "      <th>统一社会信用代码</th>\n",
       "      <th>企业公示的联系电话</th>\n",
       "      <th>企业公示的联系电话（更多号码）</th>\n",
       "      <th>企业公示的地址</th>\n",
       "      <th>企业公示的网址</th>\n",
       "      <th>企业公示的邮箱</th>\n",
       "      <th>经营范围</th>\n",
       "    </tr>\n",
       "  </thead>\n",
       "  <tbody>\n",
       "    <tr>\n",
       "      <th>0</th>\n",
       "      <td>浙报数字文化集团股份有限公司</td>\n",
       "      <td>张雪南</td>\n",
       "      <td>130192 万人民币</td>\n",
       "      <td>1992-07-01</td>\n",
       "      <td>存续</td>\n",
       "      <td>浙江</td>\n",
       "      <td>NaN</td>\n",
       "      <td>NaN</td>\n",
       "      <td>股份有限公司</td>\n",
       "      <td>91330000132211766N</td>\n",
       "      <td>85311940</td>\n",
       "      <td>85312014;</td>\n",
       "      <td>浙江省体育场路178号26-27楼</td>\n",
       "      <td>www.600633.cn ; www.600633.cn ; www.zjdex.com ...</td>\n",
       "      <td>zdm@8531.cn ;</td>\n",
       "      <td>文化产业投资、投资管理（未经金融等监管部门批准，不得从事向公众融资存款、融资担保、代客理财等...</td>\n",
       "    </tr>\n",
       "    <tr>\n",
       "      <th>1</th>\n",
       "      <td>上海捷竞电子商务有限公司</td>\n",
       "      <td>温祖骏</td>\n",
       "      <td>660 万人民币</td>\n",
       "      <td>1998-01-15</td>\n",
       "      <td>存续</td>\n",
       "      <td>上海</td>\n",
       "      <td>上海市</td>\n",
       "      <td>闵行区</td>\n",
       "      <td>有限责任公司</td>\n",
       "      <td>91310112132297424X</td>\n",
       "      <td>13919269350</td>\n",
       "      <td>13918269350;021-62696200;</td>\n",
       "      <td>上海市青浦区胜利路588号5幢1层S区135室</td>\n",
       "      <td>www.shjjec.com ;</td>\n",
       "      <td>2880720318@qq.com ; wengzj@sjlexpress.com ; li...</td>\n",
       "      <td>电子商务（不得从事增值电信、金融业务），网络科技领域内的技术服务、技术开发、技术咨询、技术转...</td>\n",
       "    </tr>\n",
       "    <tr>\n",
       "      <th>2</th>\n",
       "      <td>杭州竞天传媒有限公司</td>\n",
       "      <td>杨政伟</td>\n",
       "      <td>188 万人民币</td>\n",
       "      <td>2000-03-13</td>\n",
       "      <td>存续</td>\n",
       "      <td>浙江</td>\n",
       "      <td>杭州市</td>\n",
       "      <td>萧山区</td>\n",
       "      <td>有限责任公司</td>\n",
       "      <td>913301097210169984</td>\n",
       "      <td>83737585</td>\n",
       "      <td>82864888;</td>\n",
       "      <td>萧山区瓜沥镇光明大酒店</td>\n",
       "      <td>NaN</td>\n",
       "      <td>NaN</td>\n",
       "      <td>设计、制作、代理、发布国内各类广告，企业管理咨询，庆典、会展服务，网络维护，网页设计，防盗监...</td>\n",
       "    </tr>\n",
       "    <tr>\n",
       "      <th>3</th>\n",
       "      <td>厦门大雅传奇文化传播有限公司</td>\n",
       "      <td>彭兰英</td>\n",
       "      <td>2040 万人民币</td>\n",
       "      <td>2002-10-24</td>\n",
       "      <td>存续</td>\n",
       "      <td>福建</td>\n",
       "      <td>厦门市</td>\n",
       "      <td>NaN</td>\n",
       "      <td>有限责任公司</td>\n",
       "      <td>91350200737869245T</td>\n",
       "      <td>13806080922</td>\n",
       "      <td>6300162;6300108;</td>\n",
       "      <td>厦门市软件园望海路12号502D、502F</td>\n",
       "      <td>deya.cn ; http://mail.deya.cn/ ; http://www.de...</td>\n",
       "      <td>hrxz@deya ; 13806080922@139.com ;</td>\n",
       "      <td>市场管理；电影和影视节目发行；电影和影视节目制作；国内劳务派遣服务；电视；人才中介服务；信息...</td>\n",
       "    </tr>\n",
       "    <tr>\n",
       "      <th>4</th>\n",
       "      <td>广州思因品牌策划有限公司</td>\n",
       "      <td>帅飞鸽</td>\n",
       "      <td>100 万人民币</td>\n",
       "      <td>2004-09-29</td>\n",
       "      <td>注销</td>\n",
       "      <td>广东</td>\n",
       "      <td>广州市</td>\n",
       "      <td>海珠区</td>\n",
       "      <td>有限责任公司</td>\n",
       "      <td>91440105767658537Q</td>\n",
       "      <td>18688464659</td>\n",
       "      <td>NaN</td>\n",
       "      <td>广州市海珠区新港东路海诚东街10号503房（仅作写字楼功能用）（临时经营场所有效期至2017...</td>\n",
       "      <td>NaN</td>\n",
       "      <td>1520412985@qq.com ;</td>\n",
       "      <td>展台设计服务;包装装潢设计服务;策划创意服务;饰物装饰设计服务;城市规划设计;企业形象策划服...</td>\n",
       "    </tr>\n",
       "  </tbody>\n",
       "</table>\n",
       "</div>"
      ],
      "text/plain": [
       "             公司名称 法定代表人         注册资本       成立日期 经营状态 所属省份 所属市区 所属区县    公司类型  \\\n",
       "0  浙报数字文化集团股份有限公司   张雪南  130192 万人民币 1992-07-01   存续   浙江  NaN  NaN  股份有限公司   \n",
       "1    上海捷竞电子商务有限公司   温祖骏     660 万人民币 1998-01-15   存续   上海  上海市  闵行区  有限责任公司   \n",
       "2      杭州竞天传媒有限公司   杨政伟     188 万人民币 2000-03-13   存续   浙江  杭州市  萧山区  有限责任公司   \n",
       "3  厦门大雅传奇文化传播有限公司   彭兰英    2040 万人民币 2002-10-24   存续   福建  厦门市  NaN  有限责任公司   \n",
       "4    广州思因品牌策划有限公司   帅飞鸽     100 万人民币 2004-09-29   注销   广东  广州市  海珠区  有限责任公司   \n",
       "\n",
       "             统一社会信用代码    企业公示的联系电话            企业公示的联系电话（更多号码）  \\\n",
       "0  91330000132211766N     85311940                  85312014;   \n",
       "1  91310112132297424X  13919269350  13918269350;021-62696200;   \n",
       "2  913301097210169984     83737585                  82864888;   \n",
       "3  91350200737869245T  13806080922           6300162;6300108;   \n",
       "4  91440105767658537Q  18688464659                        NaN   \n",
       "\n",
       "                                             企业公示的地址  \\\n",
       "0                                  浙江省体育场路178号26-27楼   \n",
       "1                            上海市青浦区胜利路588号5幢1层S区135室   \n",
       "2                                        萧山区瓜沥镇光明大酒店   \n",
       "3                              厦门市软件园望海路12号502D、502F   \n",
       "4  广州市海珠区新港东路海诚东街10号503房（仅作写字楼功能用）（临时经营场所有效期至2017...   \n",
       "\n",
       "                                             企业公示的网址  \\\n",
       "0  www.600633.cn ; www.600633.cn ; www.zjdex.com ...   \n",
       "1                                   www.shjjec.com ;   \n",
       "2                                                NaN   \n",
       "3  deya.cn ; http://mail.deya.cn/ ; http://www.de...   \n",
       "4                                                NaN   \n",
       "\n",
       "                                             企业公示的邮箱  \\\n",
       "0                                      zdm@8531.cn ;   \n",
       "1  2880720318@qq.com ; wengzj@sjlexpress.com ; li...   \n",
       "2                                                NaN   \n",
       "3                  hrxz@deya ; 13806080922@139.com ;   \n",
       "4                                1520412985@qq.com ;   \n",
       "\n",
       "                                                经营范围  \n",
       "0  文化产业投资、投资管理（未经金融等监管部门批准，不得从事向公众融资存款、融资担保、代客理财等...  \n",
       "1  电子商务（不得从事增值电信、金融业务），网络科技领域内的技术服务、技术开发、技术咨询、技术转...  \n",
       "2  设计、制作、代理、发布国内各类广告，企业管理咨询，庆典、会展服务，网络维护，网页设计，防盗监...  \n",
       "3  市场管理；电影和影视节目发行；电影和影视节目制作；国内劳务派遣服务；电视；人才中介服务；信息...  \n",
       "4  展台设计服务;包装装潢设计服务;策划创意服务;饰物装饰设计服务;城市规划设计;企业形象策划服...  "
      ]
     },
     "execution_count": 80,
     "metadata": {},
     "output_type": "execute_result"
    }
   ],
   "source": [
    "df.head()"
   ]
  },
  {
   "cell_type": "code",
   "execution_count": 40,
   "metadata": {},
   "outputs": [],
   "source": [
    "#分组\n",
    "places=df.groupby(by='所属省份').size()"
   ]
  },
  {
   "cell_type": "code",
   "execution_count": 139,
   "metadata": {},
   "outputs": [
    {
     "name": "stdout",
     "output_type": "stream",
     "text": [
      "海南 417\n",
      "广东 273\n",
      "江苏 100\n",
      "安徽 68\n",
      "上海 64\n",
      "浙江 62\n",
      "陕西 54\n",
      "山东 53\n",
      "重庆 44\n",
      "北京 44\n",
      "湖北 43\n",
      "四川 41\n",
      "湖南 37\n",
      "江西 36\n",
      "河南 35\n",
      "福建 34\n",
      "贵州 30\n",
      "广西 21\n",
      "甘肃 21\n",
      "辽宁 17\n",
      "吉林 14\n",
      "黑龙江 14\n",
      "新疆 10\n",
      "河北 10\n",
      "宁夏 9\n",
      "天津 9\n",
      "山西 9\n",
      "云南 7\n",
      "内蒙古 4\n",
      "西藏 2\n"
     ]
    }
   ],
   "source": [
    "#查看\n",
    "for k in places.index:\n",
    "    print(k, places[k])"
   ]
  },
  {
   "cell_type": "code",
   "execution_count": 22,
   "metadata": {
    "scrolled": true
   },
   "outputs": [
    {
     "data": {
      "text/plain": [
       "pandas.core.series.Series"
      ]
     },
     "execution_count": 22,
     "metadata": {},
     "output_type": "execute_result"
    }
   ],
   "source": [
    "type(places)"
   ]
  },
  {
   "cell_type": "code",
   "execution_count": 30,
   "metadata": {},
   "outputs": [],
   "source": [
    "provinces=['Hainan','Guangdong','Jiangsu','Anhui','Shanghai','Zhejiang','Shanxi','Shandong','Chongqing','Beijing']\n",
    "#for i in places[0:9]:\n",
    "    #places.index[i]=provinces[i]"
   ]
  },
  {
   "cell_type": "code",
   "execution_count": 55,
   "metadata": {
    "scrolled": true
   },
   "outputs": [],
   "source": [
    "#排序\n",
    "places.sort_values(ascending=False,inplace=True)"
   ]
  },
  {
   "cell_type": "code",
   "execution_count": 56,
   "metadata": {},
   "outputs": [
    {
     "data": {
      "text/plain": [
       "<BarContainer object of 10 artists>"
      ]
     },
     "execution_count": 56,
     "metadata": {},
     "output_type": "execute_result"
    },
    {
     "data": {
      "image/png": "[encoded data removed]",
      "text/plain": [
       "<Figure size 1152x648 with 1 Axes>"
      ]
     },
     "metadata": {},
     "output_type": "display_data"
    }
   ],
   "source": [
    "plt.figure(figsize=(16,9)) \n",
    "plt.bar(provinces,places[0:10].values)   \n"
   ]
  },
  {
   "cell_type": "code",
   "execution_count": 61,
   "metadata": {},
   "outputs": [],
   "source": [
    "#海南逐年变化，要补全没有的年份\n",
    "hainan=df[df['所属省份']=='海南'].groupby('years').size()\n",
    "hainan_data=hainan.cumsum()\n",
    "\n",
    "for i in range(2009,2019):\n",
    "    if str(i) not in hainan_data.index:\n",
    "        if str(i-1) not in hainan_data.index:\n",
    "            hainan_data[str(i)]=0\n",
    "        else:\n",
    "                hainan_data[str(i)]=hainan_data[str(i-1)]\n",
    "\n",
    "hainan_data.sort_index(ascending=True,inplace=True)"
   ]
  },
  {
   "cell_type": "code",
   "execution_count": 62,
   "metadata": {},
   "outputs": [
    {
     "data": {
      "text/plain": [
       "years\n",
       "1998     1\n",
       "2004     2\n",
       "2006     3\n",
       "2007     4\n",
       "2010     5\n",
       "2012     8\n",
       "2013    13\n",
       "2014    21\n",
       "2015    33\n",
       "2016    51\n",
       "2017    56\n",
       "2018    64\n",
       "dtype: int64"
      ]
     },
     "execution_count": 62,
     "metadata": {},
     "output_type": "execute_result"
    }
   ],
   "source": [
    "shanghai=df[df['所属省份']=='上海'].groupby('years').size()\n",
    "shanghai.cumsum()"
   ]
  },
  {
   "cell_type": "code",
   "execution_count": 63,
   "metadata": {},
   "outputs": [
    {
     "data": {
      "text/plain": [
       "years\n",
       "1998     1\n",
       "1999     1\n",
       "2000     1\n",
       "2001     1\n",
       "2002     1\n",
       "2003     1\n",
       "2004     2\n",
       "2005     2\n",
       "2006     3\n",
       "2007     4\n",
       "2008     4\n",
       "2009     4\n",
       "2010     5\n",
       "2011     5\n",
       "2012     8\n",
       "2013    13\n",
       "2014    21\n",
       "2015    33\n",
       "2016    51\n",
       "2017    56\n",
       "2018    64\n",
       "dtype: int64"
      ]
     },
     "execution_count": 63,
     "metadata": {},
     "output_type": "execute_result"
    }
   ],
   "source": [
    "#上海逐年变化，要补全没有的年份\n",
    "shanghai=df[df['所属省份']=='上海'].groupby('years').size()\n",
    "shanghai_data=shanghai.cumsum()\n",
    "\n",
    "for i in range(1998,2019):\n",
    "    if str(i) not in shanghai_data.index:\n",
    "        if str(i-1) not in shanghai_data.index:\n",
    "            shanghai_data[str(i)]=0\n",
    "        else:\n",
    "                shanghai_data[str(i)]=shanghai_data[str(i-1)]\n",
    "\n",
    "shanghai_data.sort_index(ascending=True,inplace=True)\n",
    "shanghai_data"
   ]
  },
  {
   "cell_type": "markdown",
   "metadata": {},
   "source": [
    "## 五地比较条形图"
   ]
  },
  {
   "cell_type": "code",
   "execution_count": 38,
   "metadata": {},
   "outputs": [
    {
     "data": {
      "text/plain": [
       "所属市区\n",
       "东莞市      4\n",
       "中山市      2\n",
       "佛山市      5\n",
       "广州市     15\n",
       "惠州市      2\n",
       "梅州市      1\n",
       "江门市      1\n",
       "深圳市    213\n",
       "清远市      1\n",
       "珠海市      9\n",
       "阳江市      1\n",
       "韶关市      1\n",
       "dtype: int64"
      ]
     },
     "execution_count": 38,
     "metadata": {},
     "output_type": "execute_result"
    }
   ],
   "source": [
    "gd_group=df[df['所属省份']=='广东'].groupby('所属市区').size()\n",
    "gd_group"
   ]
  },
  {
   "cell_type": "code",
   "execution_count": 39,
   "metadata": {},
   "outputs": [
    {
     "data": {
      "image/png": "[encoded data removed]",
      "text/plain": [
       "<Figure size 432x288 with 1 Axes>"
      ]
     },
     "metadata": {},
     "output_type": "display_data"
    }
   ],
   "source": [
    "#北上深琼条形图\n",
    "top4=pd.DataFrame({'top_places':['Hainan','Shenzhen','Shanghai','Beijing','Guangzhou'],\n",
    "                   'nums':[places['海南'],gd_group['深圳市'],places['上海'],places['北京'],gd_group['广州市']]})\n",
    "top4.plot(x='top_places',kind='bar',legend=False,rot=0)  \n",
    "\n",
    "plt.show()"
   ]
  },
  {
   "cell_type": "markdown",
   "metadata": {},
   "source": [
    "## 十年变化折线图（全国+地方）"
   ]
  },
  {
   "cell_type": "code",
   "execution_count": 8,
   "metadata": {},
   "outputs": [],
   "source": [
    "df['years']=[str(i).split('-')[0] for i in df['成立日期']]"
   ]
  },
  {
   "cell_type": "code",
   "execution_count": 34,
   "metadata": {
    "scrolled": true
   },
   "outputs": [
    {
     "data": {
      "text/plain": [
       "<bound method NDFrame.head of years\n",
       "1992      1\n",
       "1995      1\n",
       "1998      2\n",
       "1999      1\n",
       "2000      1\n",
       "2001      1\n",
       "2002      1\n",
       "2003      2\n",
       "2004      7\n",
       "2005      4\n",
       "2006      6\n",
       "2007      3\n",
       "2008      3\n",
       "2009      5\n",
       "2010      9\n",
       "2011      7\n",
       "2012     14\n",
       "2013     16\n",
       "2014     42\n",
       "2015    119\n",
       "2016    242\n",
       "2017    341\n",
       "2018    788\n",
       "dtype: int64>"
      ]
     },
     "execution_count": 34,
     "metadata": {},
     "output_type": "execute_result"
    }
   ],
   "source": [
    "num_year=df.groupby('years').size()\n",
    "num_year.head"
   ]
  },
  {
   "cell_type": "code",
   "execution_count": 35,
   "metadata": {
    "scrolled": true
   },
   "outputs": [
    {
     "data": {
      "text/plain": [
       "['2009',\n",
       " '2010',\n",
       " '2011',\n",
       " '2012',\n",
       " '2013',\n",
       " '2014',\n",
       " '2015',\n",
       " '2016',\n",
       " '2017',\n",
       " '2018']"
      ]
     },
     "execution_count": 35,
     "metadata": {},
     "output_type": "execute_result"
    }
   ],
   "source": [
    "nation_data=num_year.cumsum()\n",
    "allyears=list(nation_data['2009':'2018'].index)\n",
    "allyears"
   ]
  },
  {
   "cell_type": "code",
   "execution_count": 91,
   "metadata": {},
   "outputs": [],
   "source": [
    "def line_fg(x,y,c):\n",
    "    plt.plot(x,y,'-',linewidth=2, color = c,marker = 'o',markersize = 6,markerfacecolor='brown' )    \n",
    "    for a, b in zip(x, y):\n",
    "        plt.text(a, b, b, ha='center', va='bottom', fontsize=12)"
   ]
  },
  {
   "cell_type": "code",
   "execution_count": 103,
   "metadata": {},
   "outputs": [
    {
     "data": {
      "image/png": "[encoded data removed]",
      "text/plain": [
       "<Figure size 1152x648 with 1 Axes>"
      ]
     },
     "metadata": {},
     "output_type": "display_data"
    }
   ],
   "source": [
    "#全国逐年变化图\n",
    "\n",
    "\n",
    "plt.figure(figsize=(16,9)) \n",
    "line_fg(allyears,nation_data['2009':'2018'].values,'steelblue')\n",
    "\n",
    "\n",
    "plt.xlabel(\"years\") #X轴标签\n",
    "plt.ylabel(\"number of E-Sports Company\")  #Y轴标签\n",
    "plt.title(\"E-sports company in China\") #图标题\n",
    "plt.show()  #显示图\n",
    "\n",
    "\n",
    "\n"
   ]
  },
  {
   "cell_type": "code",
   "execution_count": 64,
   "metadata": {
    "scrolled": true
   },
   "outputs": [
    {
     "data": {
      "text/plain": [
       "<matplotlib.legend.Legend at 0x23711b5ed30>"
      ]
     },
     "execution_count": 64,
     "metadata": {},
     "output_type": "execute_result"
    },
    {
     "data": {
      "image/png": "[encoded data removed]",
      "text/plain": [
       "<Figure size 864x648 with 1 Axes>"
      ]
     },
     "metadata": {},
     "output_type": "display_data"
    }
   ],
   "source": [
    "#上海海南变化折线图\n",
    "plt.figure(figsize=(12,9)) \n",
    "f1,=plt.plot(shanghai_data['2009':'2018'].index,shanghai_data['2009':'2018'].values,'-',color='goldenrod',linewidth=2,marker = '^',markersize = 6,markerfacecolor='brown')   \n",
    "f2,=plt.plot(hainan_data.index,hainan_data.values,'-',color='lightcoral',linewidth=2,marker = 'o',markersize = 6,markerfacecolor='brown')\n",
    "plt.legend(handles = [f1, f2,], labels = ['Shanghai', 'Hainan'], loc = 'best',fontsize=12)"
   ]
  },
  {
   "cell_type": "markdown",
   "metadata": {},
   "source": [
    "## 海南资本"
   ]
  },
  {
   "cell_type": "code",
   "execution_count": 11,
   "metadata": {},
   "outputs": [],
   "source": [
    "moneylist=[]\n",
    "for i in df[\"注册资本\"]:\n",
    "    try:\n",
    "        m=pd.to_numeric(i.split('万',1)[0])\n",
    "        m=m*10000\n",
    "    except:\n",
    "        m=np.nan\n",
    "    moneylist.append(m)\n",
    "moneylist\n",
    "df['moneylist']=moneylist\n",
    "hainan_mon=df[df['所属省份']=='海南']['moneylist']\n",
    "hainan_year=df[df['所属省份']=='海南']['years']"
   ]
  },
  {
   "cell_type": "code",
   "execution_count": 80,
   "metadata": {},
   "outputs": [
    {
     "data": {
      "text/plain": [
       "219     2011\n",
       "533     2015\n",
       "796     2015\n",
       "76      2015\n",
       "633     2015\n",
       "608     2015\n",
       "226     2016\n",
       "843     2016\n",
       "60      2016\n",
       "135     2017\n",
       "134     2017\n",
       "131     2017\n",
       "125     2017\n",
       "130     2017\n",
       "129     2017\n",
       "128     2017\n",
       "126     2017\n",
       "124     2017\n",
       "577     2017\n",
       "569     2017\n",
       "570     2017\n",
       "140     2017\n",
       "581     2017\n",
       "584     2017\n",
       "585     2017\n",
       "587     2017\n",
       "106     2017\n",
       "568     2017\n",
       "141     2017\n",
       "1599    2017\n",
       "        ... \n",
       "275     2018\n",
       "274     2018\n",
       "272     2018\n",
       "271     2018\n",
       "270     2018\n",
       "294     2018\n",
       "394     2018\n",
       "295     2018\n",
       "297     2018\n",
       "323     2018\n",
       "320     2018\n",
       "319     2018\n",
       "318     2018\n",
       "317     2018\n",
       "316     2018\n",
       "313     2018\n",
       "311     2018\n",
       "310     2018\n",
       "309     2018\n",
       "308     2018\n",
       "307     2018\n",
       "306     2018\n",
       "304     2018\n",
       "303     2018\n",
       "302     2018\n",
       "301     2018\n",
       "299     2018\n",
       "298     2018\n",
       "296     2018\n",
       "353     2018\n",
       "Name: years, Length: 417, dtype: object"
      ]
     },
     "execution_count": 80,
     "metadata": {},
     "output_type": "execute_result"
    }
   ],
   "source": [
    "hainan_y=hainan_year.sort_values(ascending=True)\n",
    "hainan_y\n",
    "#hainan_m=hainan_mon.sort_values(ascending=True)\n",
    "#hainan_m"
   ]
  },
  {
   "cell_type": "code",
   "execution_count": 58,
   "metadata": {
    "scrolled": true
   },
   "outputs": [
    {
     "data": {
      "image/png": "[encoded data removed]",
      "text/plain": [
       "<Figure size 864x648 with 1 Axes>"
      ]
     },
     "metadata": {},
     "output_type": "display_data"
    }
   ],
   "source": [
    "plt.figure(figsize=(12,9)) \n",
    "plt.scatter(hainan_y,hainan_m,c=hainan_y,cmap=plt.cm.Blues,edgecolor='none',s=100)\n",
    "plt.title('Resgistered Capital of Hainan Companies')\n",
    "plt.xlabel('year')\n",
    "plt.ylabel('Registered Capital')\n",
    "plt.tick_params(axis='both',which='both',labelsize=14)\n",
    "plt.show\n",
    "#plt.savefig('hainan_capital.png',bbox_inches='tight')"
   ]
  },
  {
   "cell_type": "markdown",
   "metadata": {},
   "source": [
    "## pygal module"
   ]
  },
  {
   "cell_type": "code",
   "execution_count": 43,
   "metadata": {},
   "outputs": [
    {
     "data": {
      "text/plain": [
       "[417, 213, 64, 44, 15]"
      ]
     },
     "execution_count": 43,
     "metadata": {},
     "output_type": "execute_result"
    }
   ],
   "source": [
    "num_5=[places['海南'],gd_group['深圳市'],places['上海'],places['北京'],gd_group['广州市']]\n",
    "num_5"
   ]
  },
  {
   "cell_type": "code",
   "execution_count": 53,
   "metadata": {},
   "outputs": [],
   "source": [
    "num_5=[places['海南'],gd_group['深圳市'],places['上海'],places['北京'],gd_group['广州市']]\n",
    "hist=pygal.Bar()\n",
    "hist.title='E-sports related companies in five cities'\n",
    "hist.x_labels=['Hainan','Shenzhen','Shanghai','Beijing','Guangzhou']\n",
    "hist.x_title='Regions'\n",
    "hist.y_title='Numbers of E-sport-related Companies'\n",
    "hist.add('Numbers',num_5)\n",
    "#pygal.Radar(print_values=True)\n",
    "hist.render_to_file('five regions.svg')\n",
    "#hist.render()"
   ]
  },
  {
   "cell_type": "code",
   "execution_count": 57,
   "metadata": {},
   "outputs": [],
   "source": [
    "hist=pygal.Bar()\n",
    "hist.title='Top10 Provinces of E-sports related companies'\n",
    "hist.x_labels=provinces\n",
    "hist.x_title='Provinces'\n",
    "hist.y_title='Numbers of E-sport-related Companies'\n",
    "hist.add('Numbers',places[0:10].values)\n",
    "hist.render_to_file('Provinces.svg')\n"
   ]
  },
  {
   "cell_type": "code",
   "execution_count": 69,
   "metadata": {},
   "outputs": [],
   "source": [
    "line_chart=pygal.Line()\n",
    "line_chart.title='Hainan VS Shanghai'\n",
    "line_chart.x_labels=allyears\n",
    "line_chart.add('Hainan',hainan_data.values)\n",
    "line_chart.add('Shanghai',shanghai_data['2009':'2018'].values)\n",
    "line_chart.render_to_file('Hainan&Shanghai.svg')"
   ]
  },
  {
   "cell_type": "code",
   "execution_count": 70,
   "metadata": {},
   "outputs": [],
   "source": [
    "line_national=pygal.Line()\n",
    "line_national.title='National Change in 10 years'\n",
    "line_national.x_labels=allyears\n",
    "line_national.add('National',nation_data['2009':'2018'].values)\n",
    "\n",
    "line_national.render_to_file('National.svg')\n"
   ]
  }
 ],
 "metadata": {
  "kernelspec": {
   "display_name": "Python 3",
   "language": "python",
   "name": "python3"
  },
  "language_info": {
   "codemirror_mode": {
    "name": "ipython",
    "version": 3
   },
   "file_extension": ".py",
   "mimetype": "text/x-python",
   "name": "python",
   "nbconvert_exporter": "python",
   "pygments_lexer": "ipython3",
   "version": "3.6.5"
  }
 },
 "nbformat": 4,
 "nbformat_minor": 2
}
